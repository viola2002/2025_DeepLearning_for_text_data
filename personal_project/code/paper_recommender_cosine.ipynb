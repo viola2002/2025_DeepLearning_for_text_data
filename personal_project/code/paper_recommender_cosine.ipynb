{
 "cells": [
  {
   "cell_type": "markdown",
   "id": "034972ce",
   "metadata": {},
   "source": [
    "# 0. 기본 정보\n",
    "* 코드 작성자: 여서연\n",
    "* 코드 작성일: 2025-04-17 ~\n",
    "* 코드 작성 목적: 코사인 유사도 기반 추천 시스템 구현"
   ]
  },
  {
   "cell_type": "markdown",
   "id": "5d2239f3",
   "metadata": {},
   "source": [
    "# 1. 기초 설정"
   ]
  },
  {
   "cell_type": "markdown",
   "id": "9347959e",
   "metadata": {},
   "source": [
    "## 사용 라이브러리"
   ]
  },
  {
   "cell_type": "code",
   "execution_count": null,
   "id": "207b4435",
   "metadata": {},
   "outputs": [],
   "source": [
    "import pandas as pd\n",
    "import matplotlib.pyplot as plt"
   ]
  },
  {
   "cell_type": "code",
   "execution_count": null,
   "id": "7bad6cbf",
   "metadata": {},
   "outputs": [],
   "source": [
    "from sklearn.feature_extraction.text import TfidfVectorizer\n",
    "from sklearn.metrics.pairwise import cosine_similarity"
   ]
  },
  {
   "cell_type": "code",
   "execution_count": null,
   "id": "290d54b6",
   "metadata": {},
   "outputs": [],
   "source": [
    "import warnings\n",
    "warnings.filterwarnings('ignore')"
   ]
  },
  {
   "cell_type": "markdown",
   "id": "2e0360b6",
   "metadata": {},
   "source": [
    "## 데이터 불러오기"
   ]
  },
  {
   "cell_type": "code",
   "execution_count": null,
   "id": "7182f009",
   "metadata": {},
   "outputs": [],
   "source": [
    "crawled = pd.read_csv('../data/dbpia_crawling_result.csv')"
   ]
  },
  {
   "cell_type": "code",
   "execution_count": null,
   "id": "e8a9bcda",
   "metadata": {},
   "outputs": [],
   "source": [
    "df_cleaned = pd.read_csv(\"../data/cleaned_docs.csv\", encoding='utf-8-sig')\n",
    "df_cleaned.info()"
   ]
  },
  {
   "cell_type": "code",
   "execution_count": null,
   "id": "06959386",
   "metadata": {},
   "outputs": [],
   "source": [
    "terms = [doc.split() for doc in df_cleaned['cleaned_doc']]\n",
    "print(terms[:5])"
   ]
  },
  {
   "cell_type": "markdown",
   "id": "8536cf8b",
   "metadata": {},
   "source": [
    "# 2. 전처리"
   ]
  },
  {
   "cell_type": "markdown",
   "id": "26a79774",
   "metadata": {},
   "source": [
    "## B. TF-IDF 행렬 계산"
   ]
  },
  {
   "cell_type": "code",
   "execution_count": null,
   "id": "b4535bae",
   "metadata": {},
   "outputs": [],
   "source": []
  },
  {
   "cell_type": "markdown",
   "id": "c477850e",
   "metadata": {},
   "source": [
    "# 3. 추천 시스템 구현"
   ]
  },
  {
   "cell_type": "code",
   "execution_count": null,
   "id": "3a8e702b",
   "metadata": {},
   "outputs": [],
   "source": [
    "cosine_sim = cosine_similarity(tfidf_matrix, tfidf_matrix)\n",
    "print('코사인 유사도 연산 결과 :', cosine_sim.shape)"
   ]
  },
  {
   "cell_type": "code",
   "execution_count": null,
   "id": "84fa333f",
   "metadata": {},
   "outputs": [],
   "source": [
    "title_to_index = dict(zip(crawled['제목'], crawled.index))\n",
    "print(title_to_index)"
   ]
  },
  {
   "cell_type": "code",
   "execution_count": null,
   "id": "06cc787f",
   "metadata": {},
   "outputs": [],
   "source": [
    "def PaperRecommendations(title, cosine_sim=cosine_sim):\n",
    "    idx = title_to_index[title]\n",
    "\n",
    "    sim_scores = list(enumerate(cosine_sim[idx]))\n",
    "\n",
    "    sim_scores = sorted(sim_scores, key=lambda x: x[1], reverse=True)\n",
    "\n",
    "    sim_scores = sim_scores[1:11]\n",
    "\n",
    "    movie_indices = [idx[0] for idx in sim_scores]\n",
    "\n",
    "    return crawled['제목'].iloc[movie_indices]"
   ]
  },
  {
   "cell_type": "code",
   "execution_count": null,
   "id": "985dc51b",
   "metadata": {},
   "outputs": [],
   "source": [
    "PaperRecommendations('썸타기와 어장관리에 대한 철학적 고찰')"
   ]
  },
  {
   "cell_type": "markdown",
   "id": "84afbd81",
   "metadata": {},
   "source": [
    "# 4. 평가"
   ]
  }
 ],
 "metadata": {
  "kernelspec": {
   "display_name": "base",
   "language": "python",
   "name": "python3"
  },
  "language_info": {
   "codemirror_mode": {
    "name": "ipython",
    "version": 3
   },
   "file_extension": ".py",
   "mimetype": "text/x-python",
   "name": "python",
   "nbconvert_exporter": "python",
   "pygments_lexer": "ipython3",
   "version": "3.11.5"
  }
 },
 "nbformat": 4,
 "nbformat_minor": 5
}
