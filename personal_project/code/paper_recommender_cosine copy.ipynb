{
 "cells": [
  {
   "cell_type": "markdown",
   "id": "034972ce",
   "metadata": {},
   "source": [
    "# 0. 기본 정보\n",
    "* 코드 작성자: 여서연\n",
    "* 코드 작성일: 2025-04-17 ~\n",
    "* 코드 작성 목적: LDA 토픽 모델링 구현"
   ]
  },
  {
   "cell_type": "markdown",
   "id": "28fe1bda",
   "metadata": {},
   "source": [
    "## 참조 코드 - Topic Modeling using LDA\n",
    "* https://joyhong.tistory.com/138\n",
    "* https://github.com/FifthSaint/NewsTextMining201903\n",
    "* https://www.machinelearningplus.com/nlp/topic-modeling-visualization-how-to-present-results-lda-models/\n",
    "* https://github.com/fastai/course-nlp/blob/master/2-svd-nmf-topic-modeling.ipynb"
   ]
  },
  {
   "cell_type": "markdown",
   "id": "5d2239f3",
   "metadata": {},
   "source": [
    "# 1. 기초 설정"
   ]
  },
  {
   "cell_type": "markdown",
   "id": "9347959e",
   "metadata": {},
   "source": [
    "## 사용 라이브러리"
   ]
  },
  {
   "cell_type": "code",
   "execution_count": null,
   "id": "207b4435",
   "metadata": {},
   "outputs": [],
   "source": [
    "import pandas as pd\n",
    "import matplotlib.pyplot as plt"
   ]
  },
  {
   "cell_type": "code",
   "execution_count": null,
   "id": "5f5abc3a",
   "metadata": {},
   "outputs": [],
   "source": [
    "import gensim\n",
    "from gensim import corpora, models\n",
    "from gensim.models import CoherenceModel"
   ]
  },
  {
   "cell_type": "code",
   "execution_count": null,
   "id": "76c2506e",
   "metadata": {},
   "outputs": [],
   "source": [
    "import pyLDAvis\n",
    "#import pyLDAvis.gensim\n",
    "import pyLDAvis.gensim_models"
   ]
  },
  {
   "cell_type": "code",
   "execution_count": null,
   "id": "290d54b6",
   "metadata": {},
   "outputs": [],
   "source": [
    "import warnings\n",
    "warnings.filterwarnings('ignore')"
   ]
  },
  {
   "cell_type": "markdown",
   "id": "2e0360b6",
   "metadata": {},
   "source": [
    "## 데이터 불러오기"
   ]
  },
  {
   "cell_type": "code",
   "execution_count": null,
   "id": "e8a9bcda",
   "metadata": {},
   "outputs": [],
   "source": [
    "df_cleaned = pd.read_csv(\"../data/cleaned_docs.csv\", encoding='utf-8-sig')\n",
    "df_cleaned.info()"
   ]
  },
  {
   "cell_type": "code",
   "execution_count": null,
   "id": "06959386",
   "metadata": {},
   "outputs": [],
   "source": [
    "terms = [doc.split() for doc in df_cleaned['cleaned_doc']]\n",
    "terms[:5]"
   ]
  },
  {
   "cell_type": "markdown",
   "id": "8536cf8b",
   "metadata": {},
   "source": [
    "# 2. 전처리"
   ]
  },
  {
   "cell_type": "markdown",
   "id": "9fb4df62",
   "metadata": {},
   "source": [
    "## A. 사전과 문서-단어행렬 생성"
   ]
  },
  {
   "cell_type": "code",
   "execution_count": null,
   "id": "db057959",
   "metadata": {},
   "outputs": [],
   "source": [
    "#training vocabulary\n",
    "dictionary = corpora.Dictionary(terms)"
   ]
  },
  {
   "cell_type": "code",
   "execution_count": null,
   "id": "9bda24bb",
   "metadata": {},
   "outputs": [],
   "source": [
    "## 문서-단어 행렬(document-term matrix) 생성\n",
    "corpus = [dictionary.doc2bow(term) for term in terms]"
   ]
  },
  {
   "cell_type": "code",
   "execution_count": null,
   "id": "c938e491",
   "metadata": {},
   "outputs": [],
   "source": [
    "print(dictionary)"
   ]
  },
  {
   "cell_type": "markdown",
   "id": "26a79774",
   "metadata": {},
   "source": [
    "## B. TF-IDF 행렬 계산"
   ]
  },
  {
   "cell_type": "code",
   "execution_count": null,
   "id": "b4535bae",
   "metadata": {},
   "outputs": [],
   "source": []
  },
  {
   "cell_type": "markdown",
   "id": "ed8ef4b2",
   "metadata": {},
   "source": [
    "# 3. LDA 토픽 모델링 구현"
   ]
  },
  {
   "cell_type": "markdown",
   "id": "197ba6ec",
   "metadata": {},
   "source": [
    "## A. LDA 분석"
   ]
  },
  {
   "cell_type": "code",
   "execution_count": null,
   "id": "8b3cb163",
   "metadata": {},
   "outputs": [],
   "source": [
    "model = gensim.models.LdaModel(\n",
    "    corpus,\n",
    "    num_topics=8, # 출력 토픽 수\n",
    "    id2word=dictionary,\n",
    "    random_state=42\n",
    ")"
   ]
  },
  {
   "cell_type": "code",
   "execution_count": null,
   "id": "54e34710",
   "metadata": {},
   "outputs": [],
   "source": [
    "# 각 토픽과 그 토픽에 속하는 단어를 중요도(확률)와 함께 출력\n",
    "# num_topics: 출력할 토픽의 개수를 지정\n",
    "# num_words: 각 토픽에서 상위 N개의 주요 단어 출력\n",
    "print(model.show_topics(4, 10))"
   ]
  },
  {
   "cell_type": "code",
   "execution_count": null,
   "id": "47c0728d",
   "metadata": {},
   "outputs": [],
   "source": [
    "NUM_TOPICS = 8 # dbpia 대분류(학문) 개수\n",
    "TOP_N = 20"
   ]
  },
  {
   "cell_type": "code",
   "execution_count": null,
   "id": "c7b63778",
   "metadata": {},
   "outputs": [],
   "source": [
    "word_dict = {}"
   ]
  },
  {
   "cell_type": "code",
   "execution_count": null,
   "id": "b137a1f0",
   "metadata": {},
   "outputs": [],
   "source": [
    "for i in range(NUM_TOPICS):\n",
    "  words = model.show_topic(i, topn=TOP_N)\n",
    "  word_dict['Topic #' + '{:02d}'.format(i+1)] = [i[0] for i in words]\n",
    "  word_df = pd.DataFrame(word_dict)"
   ]
  },
  {
   "cell_type": "code",
   "execution_count": null,
   "id": "33823baf",
   "metadata": {},
   "outputs": [],
   "source": [
    "word_df"
   ]
  },
  {
   "cell_type": "code",
   "execution_count": null,
   "id": "58286016",
   "metadata": {},
   "outputs": [],
   "source": [
    "model.print_topics(num_words=5)"
   ]
  },
  {
   "cell_type": "code",
   "execution_count": null,
   "id": "ceceb5f6",
   "metadata": {},
   "outputs": [],
   "source": [
    "# 문서의 토픽 분포를 반환 = (토픽 번호, 확률)\n",
    "\n",
    "for i in range(8):\n",
    "    print(model.get_document_topics(corpus)[i])"
   ]
  },
  {
   "cell_type": "markdown",
   "id": "8b14d6ef",
   "metadata": {},
   "source": [
    "## B. pyLDAvis를 이용한 시각화"
   ]
  },
  {
   "cell_type": "code",
   "execution_count": null,
   "id": "6cbc212c",
   "metadata": {},
   "outputs": [],
   "source": [
    "pyLDAvis.enable_notebook()"
   ]
  },
  {
   "cell_type": "code",
   "execution_count": null,
   "id": "4f925389",
   "metadata": {},
   "outputs": [],
   "source": [
    "#data = pyLDAvis.gensim.prepare(model, corpus, dictionary)\n",
    "data = pyLDAvis.gensim_models.prepare(model, corpus, dictionary)\n",
    "\n",
    "data"
   ]
  },
  {
   "cell_type": "markdown",
   "id": "56dbff16",
   "metadata": {},
   "source": [
    "# 4. 하이퍼파라미터 조정"
   ]
  },
  {
   "cell_type": "markdown",
   "id": "0ac29885",
   "metadata": {},
   "source": [
    "## A. LDA 토픽 개수 지정"
   ]
  },
  {
   "cell_type": "code",
   "execution_count": null,
   "id": "cc454c14",
   "metadata": {},
   "outputs": [],
   "source": [
    "print('Perplexity: ', model.log_perplexity(corpus))\n",
    "coherence_model_lda_1 = CoherenceModel(model=model, texts=terms, dictionary=dictionary, topn=10)\n",
    "coherence_lda_1 = coherence_model_lda_1.get_coherence()\n",
    "print('\\nCoherence Score: ', coherence_lda_1)"
   ]
  },
  {
   "cell_type": "markdown",
   "id": "358a641c",
   "metadata": {},
   "source": [
    "### a. Perplexity - 낮을수록 좋음"
   ]
  },
  {
   "cell_type": "code",
   "execution_count": null,
   "id": "ffc30907",
   "metadata": {},
   "outputs": [],
   "source": [
    "perplexity_values = []"
   ]
  },
  {
   "cell_type": "code",
   "execution_count": null,
   "id": "4fe09f15",
   "metadata": {},
   "outputs": [],
   "source": [
    "for i in range(2, 15):\n",
    "    ldamodel = gensim.models.ldamodel.LdaModel(corpus, num_topics=i, id2word = dictionary, random_state=42)\n",
    "    perplexity_values.append(ldamodel.log_perplexity(corpus))"
   ]
  },
  {
   "cell_type": "code",
   "execution_count": null,
   "id": "956fb2b0",
   "metadata": {},
   "outputs": [],
   "source": [
    "x = range(2, 15)\n",
    "plt.plot(x, perplexity_values)\n",
    "plt.title('Perplexity')\n",
    "plt.xlabel(\"Number of topics\")\n",
    "plt.ylabel(\"Perplexity score\")\n",
    "plt.show()"
   ]
  },
  {
   "cell_type": "markdown",
   "id": "150723c1",
   "metadata": {},
   "source": [
    "### b. Coherence - 높을수록 좋음"
   ]
  },
  {
   "cell_type": "code",
   "execution_count": null,
   "id": "b3755a00",
   "metadata": {},
   "outputs": [],
   "source": [
    "coherence_values = []"
   ]
  },
  {
   "cell_type": "code",
   "execution_count": null,
   "id": "7d48d9f2",
   "metadata": {},
   "outputs": [],
   "source": [
    "for i in range(2, 15):\n",
    "    ldamodel = gensim.models.ldamodel.LdaModel(corpus, num_topics=i, id2word=dictionary, random_state=42)\n",
    "    coherence_model_lda = CoherenceModel(model=ldamodel, texts=terms, dictionary=dictionary, topn=10)\n",
    "    coherence_lda = coherence_model_lda.get_coherence()\n",
    "    coherence_values.append(coherence_lda)"
   ]
  },
  {
   "cell_type": "code",
   "execution_count": null,
   "id": "cdceaaab",
   "metadata": {},
   "outputs": [],
   "source": [
    "x = range(2, 15)\n",
    "plt.plot(x, coherence_values)\n",
    "plt.title('Coherence')\n",
    "plt.xlabel(\"Number of topics\")\n",
    "plt.ylabel(\"coherence score\")\n",
    "plt.show()"
   ]
  },
  {
   "cell_type": "markdown",
   "id": "1a953725",
   "metadata": {},
   "source": [
    "최종적으로 Perplexity와 Coherence Score를 동시에 고려하여 최적의 주제 수를 선택"
   ]
  },
  {
   "cell_type": "markdown",
   "id": "349b1dbf",
   "metadata": {},
   "source": [
    "## B. 최종 LDA 분석"
   ]
  },
  {
   "cell_type": "code",
   "execution_count": null,
   "id": "5c64324a",
   "metadata": {},
   "outputs": [],
   "source": [
    "# range(2, 15) -> 2부터이므로 index에 2를 더함\n",
    "print(coherence_values.index(max(coherence_values)) + 2)"
   ]
  },
  {
   "cell_type": "code",
   "execution_count": null,
   "id": "d49cbaef",
   "metadata": {},
   "outputs": [],
   "source": [
    "NUM_TOPICS = coherence_values.index(max(coherence_values)) + 2"
   ]
  },
  {
   "cell_type": "code",
   "execution_count": null,
   "id": "e7cb8dbc",
   "metadata": {},
   "outputs": [],
   "source": [
    "final_model = gensim.models.LdaModel(\n",
    "    corpus,\n",
    "    num_topics=NUM_TOPICS, # 출력 토픽 수\n",
    "    id2word=dictionary,\n",
    "    random_state=42\n",
    ")"
   ]
  },
  {
   "cell_type": "code",
   "execution_count": null,
   "id": "e58b7b01",
   "metadata": {},
   "outputs": [],
   "source": [
    "# 각 토픽과 그 토픽에 속하는 단어를 중요도(확률)와 함께 출력\n",
    "# num_topics: 출력할 토픽의 개수를 지정\n",
    "# num_words: 각 토픽에서 상위 N개의 주요 단어 출력\n",
    "\n",
    "print(final_model.show_topics(4, 10))"
   ]
  },
  {
   "cell_type": "code",
   "execution_count": null,
   "id": "fcb0567e",
   "metadata": {},
   "outputs": [],
   "source": [
    "TOP_N = 20"
   ]
  },
  {
   "cell_type": "code",
   "execution_count": null,
   "id": "38626387",
   "metadata": {},
   "outputs": [],
   "source": [
    "final_word_dict = {}\n",
    "for i in range(NUM_TOPICS):\n",
    "  final_words = final_model.show_topic(i, topn=TOP_N)\n",
    "  final_word_dict['Topic #' + '{:02d}'.format(i+1)] = [i[0] for i in final_words]\n",
    "  final_word_df = pd.DataFrame(final_word_dict)"
   ]
  },
  {
   "cell_type": "code",
   "execution_count": null,
   "id": "6700ee75",
   "metadata": {},
   "outputs": [],
   "source": [
    "final_word_df"
   ]
  },
  {
   "cell_type": "code",
   "execution_count": null,
   "id": "4e0eaf34",
   "metadata": {},
   "outputs": [],
   "source": [
    "print(final_model.print_topics(num_words=5))"
   ]
  },
  {
   "cell_type": "code",
   "execution_count": null,
   "id": "2023c1a5",
   "metadata": {},
   "outputs": [],
   "source": [
    "# 문서의 토픽 분포를 반환 = (토픽 번호, 확률)\n",
    "for i in range(NUM_TOPICS):\n",
    "    print(final_model.get_document_topics(corpus)[i])"
   ]
  },
  {
   "cell_type": "markdown",
   "id": "18a0af8b",
   "metadata": {},
   "source": [
    "## C. 최종 pyLDAvis 시각화"
   ]
  },
  {
   "cell_type": "code",
   "execution_count": null,
   "id": "3faa7121",
   "metadata": {},
   "outputs": [],
   "source": [
    "pyLDAvis.enable_notebook()"
   ]
  },
  {
   "cell_type": "code",
   "execution_count": null,
   "id": "da14ed2e",
   "metadata": {},
   "outputs": [],
   "source": [
    "#data = pyLDAvis.gensim.prepare(model, corpus, dictionary)\n",
    "final_data = pyLDAvis.gensim_models.prepare(final_model, corpus, dictionary)\n",
    "\n",
    "final_data"
   ]
  },
  {
   "cell_type": "code",
   "execution_count": null,
   "id": "f7700448",
   "metadata": {},
   "outputs": [],
   "source": [
    "# HTML 파일로 저장\n",
    "pyLDAvis.save_html(final_data, '../data/lda_vis.html')"
   ]
  },
  {
   "cell_type": "markdown",
   "id": "7e709a75",
   "metadata": {},
   "source": [
    "# 5. 평가"
   ]
  },
  {
   "cell_type": "markdown",
   "id": "0f4a2daa",
   "metadata": {},
   "source": []
  }
 ],
 "metadata": {
  "kernelspec": {
   "display_name": "base",
   "language": "python",
   "name": "python3"
  },
  "language_info": {
   "codemirror_mode": {
    "name": "ipython",
    "version": 3
   },
   "file_extension": ".py",
   "mimetype": "text/x-python",
   "name": "python",
   "nbconvert_exporter": "python",
   "pygments_lexer": "ipython3",
   "version": "3.11.5"
  }
 },
 "nbformat": 4,
 "nbformat_minor": 5
}
